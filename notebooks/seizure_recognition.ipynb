{
 "cells": [
  {
   "cell_type": "markdown",
   "id": "honey-advertising",
   "metadata": {},
   "source": [
    "# Recognize epileptic seizures in EEG"
   ]
  },
  {
   "cell_type": "markdown",
   "id": "distinct-venue",
   "metadata": {},
   "source": [
    "### Theoretical notes on DFT\n",
    "\n",
    "$$y[k] = \\sum_{n=0}^{N-1} x[n] e^{-i \\frac{2 \\pi}{N} n k}$$\n",
    "\n",
    "$$x[n] = \\frac{1}{N} \\left( \\sum_{k=0}^{N-1} y[k] e^{i \\frac{2 \\pi}{N} n k} \\right)$$\n",
    "* DFT takes a signal in temporal domain $[0;  N*T_{sampling}]$  and represents it in frequency domain $[0; F_{sampling}]$.\n",
    "* *Intuition*:\n",
    "    * The term $e^{-i \\frac{2 \\pi}{N}}$ defines an elementary angle of $\\frac{2\\pi}{N}$ radians on the unit circle and its integer powers are multiples of the angle.\n",
    "    * To reveal harmonics hidden in a signal we sum its sample points weighted with some vectors from the unit circle.\n",
    "    * The vectors will \"rotate\" as we go from one sample point to another.\n",
    "    * We will try all possible rotation frequencies $f \\in \\left\\{0, \\frac{F_{sampling}}{N}, \\frac{2 F_{sampling}}{N}, ..., \\frac{(N-1)F_{sampling}}{N} \\right\\}$.\n",
    "    * When the rotation frequency will match an inherent frequency of the signal, the weighted sum will have large absolute values.\n",
    "* In practice the time series is always real-valued. In this case it is enough to consider only the first half of the frequencies, because the second half will be symmetric to the first and thus will bring no new information."
   ]
  },
  {
   "cell_type": "markdown",
   "id": "hungry-customer",
   "metadata": {},
   "source": [
    "### Prepare data subsets"
   ]
  },
  {
   "cell_type": "code",
   "execution_count": 1,
   "id": "reliable-wellington",
   "metadata": {},
   "outputs": [],
   "source": [
    "from IPython.display import display, Markdown\n",
    "\n",
    "import numpy as np\n",
    "import pandas as pd\n",
    "import os\n",
    "\n",
    "import seaborn as sns\n",
    "import matplotlib.pyplot as plt\n",
    "%matplotlib inline"
   ]
  },
  {
   "cell_type": "code",
   "execution_count": 2,
   "id": "outdoor-schedule",
   "metadata": {},
   "outputs": [],
   "source": [
    "DATA_PATH = '../data'\n",
    "labels = ('Z', 'O', 'N', 'F', 'S')\n",
    "\n",
    "def read_set(code):\n",
    "    with open(os.path.join(DATA_PATH, code + '.npy'), \"rb\") as f:\n",
    "        return np.load(f)\n",
    "\n",
    "subsets = [\n",
    "    {'data': read_set(l), 'label': l}\n",
    "    for l in labels\n",
    "]"
   ]
  },
  {
   "cell_type": "markdown",
   "id": "played-cheat",
   "metadata": {},
   "source": [
    "### Dataset"
   ]
  },
  {
   "cell_type": "code",
   "execution_count": 3,
   "id": "tropical-medication",
   "metadata": {},
   "outputs": [
    {
     "name": "stdout",
     "output_type": "stream",
     "text": [
      "sampling frequency: 173.6 Hz\n",
      "sampling period: 0.006 sec\n"
     ]
    }
   ],
   "source": [
    "from scipy.fftpack import fft, fftfreq\n",
    "from sklearn.preprocessing import LabelEncoder\n",
    "\n",
    "t = 23.6\n",
    "N = 4097\n",
    "Fs = N / t\n",
    "print(f\"sampling frequency: {Fs:.1f} Hz\")\n",
    "print(f\"sampling period: {1 / Fs:.3f} sec\")\n",
    "\n",
    "\n",
    "def get_fft_values(X, Fs, N):\n",
    "    f_values = fftfreq(N, d=1 / Fs)[0:N//2]\n",
    "    fft_values_ = fft(X)\n",
    "    fft_values = 2.0/N * np.abs(fft_values_[:, 0:N//2])\n",
    "    return f_values, fft_values\n",
    "\n",
    "\n",
    "def prepare_dataset(subsets, fourier=False):\n",
    "    xs = []\n",
    "    for s in subsets:\n",
    "        x = s['data']\n",
    "        if fourier:\n",
    "            _, x = get_fft_values(x, Fs, N)\n",
    "        xs.append(x)\n",
    "    features = np.concatenate(xs, axis=0)\n",
    "\n",
    "    labels = np.concatenate([\n",
    "        [s['label']] * len(s['data']) for s in subsets\n",
    "    ], axis=0)\n",
    "\n",
    "    label_encoder = LabelEncoder()\n",
    "    label_encoder.fit_transform(labels)\n",
    "    \n",
    "    return features, labels, label_encoder"
   ]
  },
  {
   "cell_type": "markdown",
   "id": "radical-there",
   "metadata": {},
   "source": [
    "### Classify EEG segments"
   ]
  },
  {
   "cell_type": "code",
   "execution_count": 4,
   "id": "artificial-space",
   "metadata": {},
   "outputs": [],
   "source": [
    "from sklearn.ensemble import RandomForestClassifier\n",
    "from sklearn.model_selection import cross_val_score\n",
    "from sklearn.model_selection import train_test_split\n",
    "from sklearn.metrics import confusion_matrix"
   ]
  },
  {
   "cell_type": "code",
   "execution_count": 5,
   "id": "capable-fiction",
   "metadata": {},
   "outputs": [],
   "source": [
    "def test_dataset(features, labels):\n",
    "    model = RandomForestClassifier(random_state=0)\n",
    "    scores = cross_val_score(\n",
    "        model, features, labels, \n",
    "        scoring='accuracy', \n",
    "        cv=5, \n",
    "        n_jobs=-1,\n",
    "    )\n",
    "    print(f\"CV accuracy: mu={np.mean(scores):.2f}, std={np.std(scores):.2f}\")\n",
    "\n",
    "\n",
    "def split_dataset(X, mask):\n",
    "    return X[~mask], X[mask]\n",
    "\n",
    "def show_confusion(X, y, test_mask):\n",
    "    X, X_test = split_dataset(X, test_mask)\n",
    "    y, y_test = split_dataset(y, test_mask)\n",
    "    \n",
    "    model = RandomForestClassifier(random_state=0)\n",
    "    model.fit(X, y)\n",
    "\n",
    "    y_pred = model.predict(X_test)\n",
    "    \n",
    "    cf_matrix = confusion_matrix(y_test, y_pred, labels=labels)\n",
    "    cf_df = pd.DataFrame(cf_matrix, index=labels, columns=labels)\n",
    "    sns.heatmap(cf_df, annot=True)\n",
    "    plt.show()"
   ]
  },
  {
   "cell_type": "code",
   "execution_count": 6,
   "id": "recent-discovery",
   "metadata": {},
   "outputs": [
    {
     "name": "stdout",
     "output_type": "stream",
     "text": [
      "CV accuracy: mu=0.65, std=0.03\n",
      "CV accuracy: mu=0.83, std=0.03\n"
     ]
    }
   ],
   "source": [
    "X, y, _ = prepare_dataset(subsets)\n",
    "Xf, yf, _ = prepare_dataset(subsets, fourier=True)\n",
    "\n",
    "test_dataset(X, y)\n",
    "test_dataset(Xf, yf)"
   ]
  },
  {
   "cell_type": "code",
   "execution_count": 7,
   "id": "peripheral-archives",
   "metadata": {},
   "outputs": [
    {
     "data": {
      "text/markdown": [
       "#### Classify using initial signal values"
      ],
      "text/plain": [
       "<IPython.core.display.Markdown object>"
      ]
     },
     "metadata": {},
     "output_type": "display_data"
    },
    {
     "data": {
      "image/png": "[encoded data removed]",
      "text/plain": [
       "<Figure size 432x288 with 2 Axes>"
      ]
     },
     "metadata": {
      "needs_background": "light"
     },
     "output_type": "display_data"
    },
    {
     "data": {
      "text/markdown": [
       "#### Classify using spectrum values"
      ],
      "text/plain": [
       "<IPython.core.display.Markdown object>"
      ]
     },
     "metadata": {},
     "output_type": "display_data"
    },
    {
     "data": {
      "image/png": "[encoded data removed]",
      "text/plain": [
       "<Figure size 432x288 with 2 Axes>"
      ]
     },
     "metadata": {
      "needs_background": "light"
     },
     "output_type": "display_data"
    }
   ],
   "source": [
    "test_size = 0.2\n",
    "test_mask = np.random.choice(2, size=len(y), p=[1-test_size, test_size]).astype(bool)\n",
    "\n",
    "display(Markdown('#### Classify using initial signal values'))\n",
    "show_confusion(X, y, test_mask)\n",
    "display(Markdown('#### Classify using spectrum values'))\n",
    "show_confusion(Xf, yf, test_mask)"
   ]
  }
 ],
 "metadata": {
  "kernelspec": {
   "display_name": "Python 3",
   "language": "python",
   "name": "python3"
  },
  "language_info": {
   "codemirror_mode": {
    "name": "ipython",
    "version": 3
   },
   "file_extension": ".py",
   "mimetype": "text/x-python",
   "name": "python",
   "nbconvert_exporter": "python",
   "pygments_lexer": "ipython3",
   "version": "3.9.1"
  }
 },
 "nbformat": 4,
 "nbformat_minor": 5
}
